{
  "nbformat": 4,
  "nbformat_minor": 0,
  "metadata": {
    "colab": {
      "provenance": [],
      "authorship_tag": "ABX9TyPgVJtUt+SLEB5ZRf9bbiuj",
      "include_colab_link": true
    },
    "kernelspec": {
      "name": "python3",
      "display_name": "Python 3"
    },
    "language_info": {
      "name": "python"
    }
  },
  "cells": [
    {
      "cell_type": "markdown",
      "metadata": {
        "id": "view-in-github",
        "colab_type": "text"
      },
      "source": [
        "<a href=\"https://colab.research.google.com/github/kkruups/Downloader/blob/master/Untitled0.ipynb\" target=\"_parent\"><img src=\"https://colab.research.google.com/assets/colab-badge.svg\" alt=\"Open In Colab\"/></a>"
      ]
    },
    {
      "cell_type": "code",
      "source": [
        "pip install snakeviz"
      ],
      "metadata": {
        "colab": {
          "base_uri": "https://localhost:8080/"
        },
        "id": "aMbXTUerEt-B",
        "outputId": "b4af55e1-ce45-4483-c116-fafe00e342a9"
      },
      "execution_count": null,
      "outputs": [
        {
          "output_type": "stream",
          "name": "stdout",
          "text": [
            "Looking in indexes: https://pypi.org/simple, https://us-python.pkg.dev/colab-wheels/public/simple/\n",
            "Requirement already satisfied: snakeviz in /usr/local/lib/python3.8/dist-packages (2.1.1)\n",
            "Requirement already satisfied: tornado>=2.0 in /usr/local/lib/python3.8/dist-packages (from snakeviz) (6.0.4)\n"
          ]
        }
      ]
    },
    {
      "cell_type": "code",
      "source": [
        "%snakeviz -t"
      ],
      "metadata": {
        "colab": {
          "base_uri": "https://localhost:8080/"
        },
        "id": "xhktjOcBGc10",
        "outputId": "8c0055c3-6f3b-477a-8b18-c85655f80115"
      },
      "execution_count": null,
      "outputs": [
        {
          "output_type": "stream",
          "name": "stdout",
          "text": [
            "The snakeviz extension is already loaded. To reload it, use:\n",
            "  %reload_ext snakeviz\n"
          ]
        }
      ]
    },
    {
      "cell_type": "code",
      "execution_count": 33,
      "metadata": {
        "colab": {
          "base_uri": "https://localhost:8080/"
        },
        "id": "Z0qTdpF4_Q7p",
        "outputId": "bb532963-8740-4b05-f422-e1f894574fbe"
      },
      "outputs": [
        {
          "output_type": "stream",
          "name": "stdout",
          "text": [
            " \n",
            "*** Profile stats marshalled to file '/tmp/tmpm1eidy2a'. \n",
            "Opening SnakeViz in a new tab...\n"
          ]
        }
      ],
      "source": [
        "%%snakeviz -t\n",
        "import time, snakeviz\n",
        "\n",
        "def slow_function(n):\n",
        "    s = 0\n",
        "    for i in range(n):\n",
        "        s += i\n",
        "        time.sleep(0.1)\n",
        "    return s\n",
        "\n",
        "def fast_function(n):\n",
        "    s = 0\n",
        "    for i in range(n):\n",
        "        s += i\n",
        "    return s\n",
        "\n",
        "def main():\n",
        "    slow_function(10)\n",
        "    fast_function(10)\n",
        "    slow_function(5)\n",
        "    fast_function(5)\n",
        "\n",
        "main()\n"
      ]
    },
    {
      "cell_type": "code",
      "source": [
        "%shell snakeviz -p 8083 ../tmp/tmp9b3fokhi"
      ],
      "metadata": {
        "id": "BthkvRP4wING"
      },
      "execution_count": null,
      "outputs": []
    },
    {
      "cell_type": "code",
      "source": [
        "import cProfile, pstats\n",
        "\n",
        "cProfile.run('main ()', 'myapp.profile')\n",
        "\n",
        "%%snakeviz -t\n",
        "p=pstats.Stats('myapp.profile')\n",
        "\n",
        "p.sort_stats('cumulative').print_stats(10)"
      ],
      "metadata": {
        "colab": {
          "base_uri": "https://localhost:8080/"
        },
        "id": "RfNDoTLk_3zd",
        "outputId": "9729068f-2830-4161-b767-c83dd4810d84"
      },
      "execution_count": null,
      "outputs": [
        {
          "output_type": "stream",
          "name": "stderr",
          "text": [
            "UsageError: Line magic function `%%snakeviz` not found.\n"
          ]
        }
      ]
    },
    {
      "cell_type": "code",
      "source": [
        "import pstats, snakeviz\n",
        "\n",
        "p = pstats.Stats('myapp.profile')\n",
        "snakeviz.visualize(p)"
      ],
      "metadata": {
        "id": "xMra8Gk7EUvW"
      },
      "execution_count": null,
      "outputs": []
    }
  ]
}